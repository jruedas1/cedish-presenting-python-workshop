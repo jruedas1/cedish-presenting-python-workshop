{
 "cells": [
  {
   "cell_type": "code",
   "execution_count": null,
   "id": "ba64f4ee-e86f-4784-aad2-4f96605f4212",
   "metadata": {},
   "outputs": [],
   "source": []
  }
 ],
 "metadata": {
  "kernelspec": {
   "display_name": "",
   "name": ""
  },
  "language_info": {
   "name": ""
  }
 },
 "nbformat": 4,
 "nbformat_minor": 5
}
